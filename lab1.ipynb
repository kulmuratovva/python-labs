{
 "cells": [
  {
   "cell_type": "markdown",
   "id": "4673b7eb-a548-42f3-b281-4d9a7aca40da",
   "metadata": {},
   "source": [
    "intro:"
   ]
  },
  {
   "cell_type": "code",
   "execution_count": 2,
   "id": "6a886048-2ba9-4f4a-ac21-9aa933668c19",
   "metadata": {},
   "outputs": [
    {
     "name": "stdout",
     "output_type": "stream",
     "text": [
      "Hello, World!\n"
     ]
    }
   ],
   "source": [
    "print(\"Hello, World!\")"
   ]
  },
  {
   "cell_type": "markdown",
   "id": "6d8cb543-f0de-4763-b375-310ff9a60ea9",
   "metadata": {},
   "source": [
    "get strated:"
   ]
  },
  {
   "cell_type": "code",
   "execution_count": 5,
   "id": "cdfe3abd-29dd-477b-aeef-db041de0206e",
   "metadata": {},
   "outputs": [
    {
     "name": "stdout",
     "output_type": "stream",
     "text": [
      "3.12.7 | packaged by Anaconda, Inc. | (main, Oct  4 2024, 13:17:27) [MSC v.1929 64 bit (AMD64)]\n"
     ]
    }
   ],
   "source": [
    "import sys\n",
    "print(sys.version)"
   ]
  },
  {
   "cell_type": "markdown",
   "id": "685a6ab7-63f7-4dc2-bb3d-b27b0d9bd771",
   "metadata": {},
   "source": [
    "syntax:"
   ]
  }
 ],
 "metadata": {
  "kernelspec": {
   "display_name": "Python [conda env:base] *",
   "language": "python",
   "name": "conda-base-py"
  },
  "language_info": {
   "codemirror_mode": {
    "name": "ipython",
    "version": 3
   },
   "file_extension": ".py",
   "mimetype": "text/x-python",
   "name": "python",
   "nbconvert_exporter": "python",
   "pygments_lexer": "ipython3",
   "version": "3.12.7"
  }
 },
 "nbformat": 4,
 "nbformat_minor": 5
}
