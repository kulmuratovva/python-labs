{
 "cells": [
  {
   "cell_type": "markdown",
   "id": "4673b7eb-a548-42f3-b281-4d9a7aca40da",
   "metadata": {},
   "source": [
    "INTRO:"
   ]
  },
  {
   "cell_type": "code",
   "execution_count": 20,
   "id": "6a886048-2ba9-4f4a-ac21-9aa933668c19",
   "metadata": {},
   "outputs": [
    {
     "name": "stdout",
     "output_type": "stream",
     "text": [
      "Hello, World!\n"
     ]
    }
   ],
   "source": [
    "print(\"Hello, World!\")"
   ]
  },
  {
   "cell_type": "markdown",
   "id": "6d8cb543-f0de-4763-b375-310ff9a60ea9",
   "metadata": {},
   "source": [
    "GET STARTED:"
   ]
  },
  {
   "cell_type": "code",
   "execution_count": 23,
   "id": "cdfe3abd-29dd-477b-aeef-db041de0206e",
   "metadata": {},
   "outputs": [
    {
     "name": "stdout",
     "output_type": "stream",
     "text": [
      "3.12.7 | packaged by Anaconda, Inc. | (main, Oct  4 2024, 13:17:27) [MSC v.1929 64 bit (AMD64)]\n"
     ]
    }
   ],
   "source": [
    "import sys\n",
    "print(sys.version)"
   ]
  },
  {
   "cell_type": "markdown",
   "id": "685a6ab7-63f7-4dc2-bb3d-b27b0d9bd771",
   "metadata": {},
   "source": [
    "SYNTAX:"
   ]
  },
  {
   "cell_type": "code",
   "execution_count": 55,
   "id": "f2003941-4e23-4554-b863-e28368c84629",
   "metadata": {},
   "outputs": [
    {
     "name": "stdout",
     "output_type": "stream",
     "text": [
      "Five is greater than two!\n"
     ]
    }
   ],
   "source": [
    "if 5 > 2:\n",
    "    print(\"Five is greater than two!\")"
   ]
  },
  {
   "cell_type": "code",
   "execution_count": 57,
   "id": "d9850ef2-69aa-4af2-822d-f783ad4920c8",
   "metadata": {},
   "outputs": [
    {
     "name": "stdout",
     "output_type": "stream",
     "text": [
      "Five is greater than two!\n",
      "Five is greater than two!\n"
     ]
    }
   ],
   "source": [
    "if 5 > 2:\n",
    "    print(\"Five is greater than two!\")\n",
    "if 5 > 2:\n",
    "        print(\"Five is greater than two!\")"
   ]
  },
  {
   "cell_type": "markdown",
   "id": "25dcae5b-33c5-45ee-be35-5ee6532962cc",
   "metadata": {},
   "source": [
    "COMMENTS:"
   ]
  },
  {
   "cell_type": "code",
   "execution_count": 60,
   "id": "1c9daab3-7101-488e-b9e6-c87a74c993c7",
   "metadata": {},
   "outputs": [
    {
     "name": "stdout",
     "output_type": "stream",
     "text": [
      "This is not\n"
     ]
    }
   ],
   "source": [
    "#This is a comment\n",
    "print(\"This is not\")"
   ]
  },
  {
   "cell_type": "code",
   "execution_count": 62,
   "id": "ab1c8d7e-1a3c-4724-88d6-c8fe5ccb4ec9",
   "metadata": {},
   "outputs": [
    {
     "name": "stdout",
     "output_type": "stream",
     "text": [
      "Hello, World!\n"
     ]
    }
   ],
   "source": [
    "print(\"Hello, World!\") #Comment"
   ]
  },
  {
   "cell_type": "code",
   "execution_count": 64,
   "id": "48c69e8b-dcb1-4fdd-abdf-fe7e391a6f5e",
   "metadata": {},
   "outputs": [
    {
     "name": "stdout",
     "output_type": "stream",
     "text": [
      "Cheers, Mate!\n"
     ]
    }
   ],
   "source": [
    "#print(\"Hello world!\")\n",
    "print(\"Cheers, Mate!\")"
   ]
  },
  {
   "cell_type": "code",
   "execution_count": 66,
   "id": "5311ac2c-7869-4f16-9533-37ee6ba18ca0",
   "metadata": {},
   "outputs": [
    {
     "name": "stdout",
     "output_type": "stream",
     "text": [
      "KBTU\n"
     ]
    }
   ],
   "source": [
    "'''\n",
    "This is a comment written in more than just one line\n",
    "'''\n",
    "print(\"KBTU\")"
   ]
  },
  {
   "cell_type": "markdown",
   "id": "df8af48f-fac6-428c-b23b-1580383390da",
   "metadata": {},
   "source": [
    "VARIABLES:"
   ]
  },
  {
   "cell_type": "code",
   "execution_count": 69,
   "id": "8499ef68-3081-4682-8b9e-dce6fdd2ee8c",
   "metadata": {},
   "outputs": [
    {
     "name": "stdout",
     "output_type": "stream",
     "text": [
      "5\n",
      "John\n"
     ]
    }
   ],
   "source": [
    "x = 5\n",
    "y = \"John\"\n",
    "print(x)\n",
    "print(y)"
   ]
  },
  {
   "cell_type": "code",
   "execution_count": 71,
   "id": "d66338e3-2846-4393-b422-41f6d917081c",
   "metadata": {},
   "outputs": [
    {
     "name": "stdout",
     "output_type": "stream",
     "text": [
      "Sally\n"
     ]
    }
   ],
   "source": [
    "x = 4       # x is of type int\n",
    "x = \"Sally\" # x is now of type str\n",
    "print(x)"
   ]
  },
  {
   "cell_type": "code",
   "execution_count": 73,
   "id": "5c80752a-afb7-4297-9d8b-828a51d45dbd",
   "metadata": {},
   "outputs": [],
   "source": [
    "x = str(3)    # x will be '3'\n",
    "y = int(3)    # y will be 3\n",
    "z = float(3)  # z will be 3.0\n",
    "\n",
    "# If you want to specify the data type of a variable, this can be done with casting."
   ]
  },
  {
   "cell_type": "code",
   "execution_count": 75,
   "id": "e509e7e3-5805-4f73-8388-1fefd36ecd6e",
   "metadata": {},
   "outputs": [
    {
     "name": "stdout",
     "output_type": "stream",
     "text": [
      "<class 'int'>\n",
      "<class 'str'>\n"
     ]
    }
   ],
   "source": [
    "x = 5\n",
    "y = \"John \"\n",
    "print(type(x))\n",
    "print(type(y))"
   ]
  },
  {
   "cell_type": "markdown",
   "id": "0c9eb192-e7d7-4f73-9cc8-e931e9b9cdfd",
   "metadata": {},
   "source": [
    "Single/Double Quotes?\n"
   ]
  },
  {
   "cell_type": "code",
   "execution_count": 83,
   "id": "96ed2053-f328-4249-a659-1f5a49341e90",
   "metadata": {},
   "outputs": [],
   "source": [
    "x = \"John\"\n",
    "# is the same\n",
    "x = 'John'"
   ]
  },
  {
   "cell_type": "markdown",
   "id": "c9ce349e-6760-4dc2-aea8-c9f05f498136",
   "metadata": {},
   "source": [
    "Case-Sensetive # чувствителен к регистру"
   ]
  },
  {
   "cell_type": "code",
   "execution_count": 92,
   "id": "9c057782-7d57-4810-afd1-973354b3f2ec",
   "metadata": {},
   "outputs": [],
   "source": [
    "a = 4\n",
    "A = \"Sally\"\n",
    "# A will not overwrite a "
   ]
  },
  {
   "cell_type": "markdown",
   "id": "a4cee8ff-b3e4-4b65-8342-bdf2b98d665b",
   "metadata": {},
   "source": [
    "VARIABLE NAMES:\n",
    "Legal variable names"
   ]
  },
  {
   "cell_type": "code",
   "execution_count": 98,
   "id": "cf2fd9ac-93b0-4a39-b210-a2d8d78a6761",
   "metadata": {},
   "outputs": [],
   "source": [
    "myvar = \"John\"\n",
    "my_var = \"John\"\n",
    "_my_var = \"John\"\n",
    "myVar = \"John\"\n",
    "MYVAR = \"John\"\n",
    "myvar2 = \"John\"\n",
    "myVariableName = \"John\"\n",
    "MyVariableName = \"John\"\n",
    "my_variable_name = \"John\""
   ]
  },
  {
   "cell_type": "markdown",
   "id": "c5a00c44-7244-4ff0-ae8c-741305685add",
   "metadata": {},
   "source": [
    "ASSIGN MULTIPLE VALUES:"
   ]
  },
  {
   "cell_type": "code",
   "execution_count": 101,
   "id": "90f3c5dd-999c-439e-b740-fcc184ddcd56",
   "metadata": {},
   "outputs": [
    {
     "name": "stdout",
     "output_type": "stream",
     "text": [
      "Orange\n",
      "Banana\n",
      "Cherry\n"
     ]
    }
   ],
   "source": [
    "x, y, z = \"Orange\", \"Banana\", \"Cherry\"\n",
    "print(x)\n",
    "print(y)\n",
    "print(z)"
   ]
  },
  {
   "cell_type": "markdown",
   "id": "6ff1c9db-d595-4e0b-b530-6dc422d8aee9",
   "metadata": {},
   "source": [
    "One Value to Multiple Variables"
   ]
  },
  {
   "cell_type": "code",
   "execution_count": 106,
   "id": "62236468-e855-4bb4-b2e9-28396d1190c2",
   "metadata": {},
   "outputs": [
    {
     "name": "stdout",
     "output_type": "stream",
     "text": [
      "Orange\n",
      "Orange\n",
      "Orange\n"
     ]
    }
   ],
   "source": [
    "x = y = z = \"Orange\"\n",
    "print(x)\n",
    "print(y)\n",
    "print(z)"
   ]
  },
  {
   "cell_type": "markdown",
   "id": "338bdcc8-8b22-4fa4-ac7a-8c2f01c925eb",
   "metadata": {},
   "source": [
    "Unpack a Collection"
   ]
  },
  {
   "cell_type": "code",
   "execution_count": 109,
   "id": "c4b5427f-688a-4ccd-8855-2b8f3226ce93",
   "metadata": {},
   "outputs": [
    {
     "name": "stdout",
     "output_type": "stream",
     "text": [
      "apple\n",
      "banana\n",
      "cherry\n"
     ]
    }
   ],
   "source": [
    "fruits = [\"apple\", \"banana\", \"cherry\"]\n",
    "x, y, z = fruits\n",
    "print(x)\n",
    "print(y)\n",
    "print(z)"
   ]
  },
  {
   "cell_type": "markdown",
   "id": "54d1d189-6f66-4bd3-b5e9-d1c927fd213f",
   "metadata": {},
   "source": [
    "Output Variables"
   ]
  },
  {
   "cell_type": "code",
   "execution_count": 116,
   "id": "b2d2f460-699c-4119-95ea-dd0528bce5f2",
   "metadata": {},
   "outputs": [
    {
     "name": "stdout",
     "output_type": "stream",
     "text": [
      "Python is awesome\n"
     ]
    }
   ],
   "source": [
    "x = \"Python is awesome\"\n",
    "print(x)"
   ]
  },
  {
   "cell_type": "code",
   "execution_count": 120,
   "id": "e44d7b07-f4b0-4331-8b73-c92ac85fc39e",
   "metadata": {},
   "outputs": [
    {
     "name": "stdout",
     "output_type": "stream",
     "text": [
      "Python is awesome\n"
     ]
    }
   ],
   "source": [
    "x = \"Python\"\n",
    "y = \"is\"\n",
    "z = \"awesome\"\n",
    "print(x,y,z)"
   ]
  },
  {
   "cell_type": "code",
   "execution_count": 122,
   "id": "baefcc66-97e8-4e26-b110-43811417f1ca",
   "metadata": {},
   "outputs": [
    {
     "name": "stdout",
     "output_type": "stream",
     "text": [
      "Pythonisawesome\n"
     ]
    }
   ],
   "source": [
    "print(x+y+z)"
   ]
  },
  {
   "cell_type": "markdown",
   "id": "778888e0-8a47-4b56-8ac8-92a5b60008f0",
   "metadata": {},
   "source": [
    "Global Variables"
   ]
  },
  {
   "cell_type": "code",
   "execution_count": 127,
   "id": "80559476-7133-4160-b81e-a7fb349bfe51",
   "metadata": {},
   "outputs": [
    {
     "name": "stdout",
     "output_type": "stream",
     "text": [
      "Python is awesome\n"
     ]
    }
   ],
   "source": [
    "x = \"awesome\"\n",
    "\n",
    "def myfunc():\n",
    "    print(\"Python is \" + x)\n",
    "\n",
    "myfunc()"
   ]
  },
  {
   "cell_type": "code",
   "execution_count": 133,
   "id": "79297228-1895-46f8-9611-ff21d2baaaaf",
   "metadata": {},
   "outputs": [
    {
     "name": "stdout",
     "output_type": "stream",
     "text": [
      "Python is  fantastic\n",
      "Python is awesome\n"
     ]
    }
   ],
   "source": [
    "x = \"awesome\"\n",
    "\n",
    "def myfunc():\n",
    "    x = \"fantastic\"\n",
    "    print(\"Python is  \" + x)\n",
    "\n",
    "myfunc()\n",
    "\n",
    "print(\"Python is \" + x)"
   ]
  },
  {
   "cell_type": "code",
   "execution_count": 137,
   "id": "0af49833-d7e2-4723-927e-67f451a38738",
   "metadata": {},
   "outputs": [
    {
     "name": "stdout",
     "output_type": "stream",
     "text": [
      "Python is fantastic\n"
     ]
    }
   ],
   "source": [
    "def myfunc():\n",
    "    global x\n",
    "    x = \"fantastic\"\n",
    "\n",
    "myfunc()\n",
    "\n",
    "print(\"Python is \" + x)"
   ]
  },
  {
   "cell_type": "code",
   "execution_count": 139,
   "id": "7bb27ff1-d36b-4236-b07d-6501e6990168",
   "metadata": {},
   "outputs": [
    {
     "name": "stdout",
     "output_type": "stream",
     "text": [
      "Python is fantastic\n"
     ]
    }
   ],
   "source": [
    "x = \"awesome\"\n",
    "\n",
    "def myfunc():\n",
    "    global x\n",
    "    x = \"fantastic\"\n",
    "\n",
    "myfunc()\n",
    "\n",
    "print(\"Python is \" + x)"
   ]
  },
  {
   "cell_type": "markdown",
   "id": "c54ba0ef-cd3b-4851-81b7-d3a418a083c3",
   "metadata": {},
   "source": [
    "DATA TYPES:"
   ]
  },
  {
   "cell_type": "markdown",
   "id": "93963f06-185a-43ee-9d1f-6a5dd00402ad",
   "metadata": {},
   "source": [
    "Text type: str\n",
    "\n",
    "Numeric Types: int, float, complex\n",
    "\n",
    "Sequence Types: list, tuple, range\n",
    "\n",
    "Mapping Type: dict\n",
    "\n",
    "Set types: set, frozenset\n",
    "\n",
    "Boolean Type: bool\n",
    "\n",
    "Binary Types: bytes, bytearray, memoryview\n",
    "\n",
    "None type: NoneType"
   ]
  },
  {
   "cell_type": "code",
   "execution_count": 146,
   "id": "31ce88e1-84cb-47fb-899c-c52616562c3f",
   "metadata": {},
   "outputs": [
    {
     "name": "stdout",
     "output_type": "stream",
     "text": [
      "<class 'int'>\n"
     ]
    }
   ],
   "source": [
    "x = 5\n",
    "print(type(x))\n",
    "# use 'type()' to print type of var."
   ]
  },
  {
   "cell_type": "markdown",
   "id": "168292ef-2284-468e-865c-8b5396721310",
   "metadata": {},
   "source": [
    "Setting Data Type"
   ]
  },
  {
   "cell_type": "code",
   "execution_count": 149,
   "id": "6e8458d9-f9b5-48f5-a449-c6edfe35b323",
   "metadata": {},
   "outputs": [],
   "source": [
    "x = \"Hello\"                                   # str\n",
    "x = 20                                        # int\n",
    "x = 20.5                                      # float\n",
    "x = 1j                                        # complex\n",
    "x = [\"apple\", \"banana\", \"cherry\"]             # list\n",
    "x = (\"apple\", \"banana\", \"cherry\")             # range\n",
    "x = range(6)                                  # range\n",
    "x = {\"name\" : \"John\", \"age\" : 36}             # dict\n",
    "x = {\"apple\", \"banana\", \"cherry\"}             # set\n",
    "x = frozenset({\"apple\", \"banana\", \"cherry\"})  # frozenset\n",
    "x = True                                      # bool\n",
    "x = b\"Hello\"                                  # bytes\n",
    "x = bytearray(5)                              # bytearray\n",
    "x = memoryview(bytes(5))                      # memory view\n",
    "x = None                                      # NoneType"
   ]
  },
  {
   "cell_type": "markdown",
   "id": "411d9d9c-c3cf-43c6-b6a8-2286278cc21d",
   "metadata": {},
   "source": [
    "NUMBERS:\n",
    "\n",
    "There are 3 numeric types in Python:\n",
    "- int\n",
    "- float\n",
    "- complex"
   ]
  },
  {
   "cell_type": "code",
   "execution_count": 153,
   "id": "89b10441-76e3-4fee-b2c3-7c672e2f0ad3",
   "metadata": {},
   "outputs": [],
   "source": [
    "# Variables of numeric types are created when you assign a value to them:\n",
    "\n",
    "x = 1   # int\n",
    "y = 2.8 # float\n",
    "z = 1j  # compex"
   ]
  },
  {
   "cell_type": "code",
   "execution_count": 155,
   "id": "032e7949-8e8e-412b-a652-daa9b44a3b0c",
   "metadata": {},
   "outputs": [
    {
     "name": "stdout",
     "output_type": "stream",
     "text": [
      "<class 'int'>\n",
      "<class 'float'>\n",
      "<class 'complex'>\n"
     ]
    }
   ],
   "source": [
    "# To verify the type of any object in Python, use the type() function:\n",
    "print(type(x))\n",
    "print(type(y))\n",
    "print(type(z))"
   ]
  },
  {
   "cell_type": "markdown",
   "id": "fc1e0924-9bf1-46b8-8f5b-f83e014adf6c",
   "metadata": {},
   "source": [
    "Int\n",
    "\n",
    "Int, or integer, is a whole number, positive or negative, without decimals, of unlimited length."
   ]
  },
  {
   "cell_type": "code",
   "execution_count": 158,
   "id": "47804a2a-ed8a-4a63-b946-8b0991dd6f5e",
   "metadata": {},
   "outputs": [
    {
     "name": "stdout",
     "output_type": "stream",
     "text": [
      "<class 'int'>\n",
      "<class 'int'>\n",
      "<class 'int'>\n"
     ]
    }
   ],
   "source": [
    "x = 1\n",
    "y = 3265986256982\n",
    "z = -252548645\n",
    "\n",
    "print(type(x))\n",
    "print(type(y))\n",
    "print(type(z))"
   ]
  },
  {
   "cell_type": "markdown",
   "id": "71f6c224-99f9-4b8f-a9ab-6f83a0beaf4c",
   "metadata": {},
   "source": [
    "Float\n",
    "\n",
    "Float, or \"floating point number\" is a number, positive or negative, containing one or more decimals."
   ]
  },
  {
   "cell_type": "code",
   "execution_count": 161,
   "id": "4101ebb7-1950-47d2-9927-d20212922d2f",
   "metadata": {},
   "outputs": [
    {
     "name": "stdout",
     "output_type": "stream",
     "text": [
      "<class 'float'>\n",
      "<class 'float'>\n",
      "<class 'float'>\n"
     ]
    }
   ],
   "source": [
    "x = 1.10\n",
    "y = 1.0\n",
    "z = -35.39\n",
    "\n",
    "print(type(x))\n",
    "print(type(y))\n",
    "print(type(z))"
   ]
  },
  {
   "cell_type": "markdown",
   "id": "3f2260e8-48aa-4a06-981b-44cbd270d9b3",
   "metadata": {},
   "source": [
    "Float can also be scientific numbers with an \"e\" to indicate the power of 10."
   ]
  },
  {
   "cell_type": "code",
   "execution_count": 164,
   "id": "0a258777-43f2-4ee7-9475-f51d5a71b84e",
   "metadata": {},
   "outputs": [
    {
     "name": "stdout",
     "output_type": "stream",
     "text": [
      "<class 'float'>\n",
      "<class 'float'>\n",
      "<class 'float'>\n"
     ]
    }
   ],
   "source": [
    "x = 35e3\n",
    "y = 12E4\n",
    "z = -87.7e100\n",
    "\n",
    "print(type(x))\n",
    "print(type(y))\n",
    "print(type(z))"
   ]
  },
  {
   "cell_type": "markdown",
   "id": "fe3e559a-928d-4def-9d20-0888558c9606",
   "metadata": {},
   "source": [
    "Complex \n",
    "\n",
    "Complex numbers are written with a \"j\" as the imaginary part:"
   ]
  },
  {
   "cell_type": "code",
   "execution_count": 169,
   "id": "0f45f341-d163-443d-9a50-05d58231cf34",
   "metadata": {},
   "outputs": [
    {
     "name": "stdout",
     "output_type": "stream",
     "text": [
      "<class 'complex'>\n",
      "<class 'complex'>\n",
      "<class 'complex'>\n"
     ]
    }
   ],
   "source": [
    "x = 3 + 5j\n",
    "y = 5j\n",
    "z = -5j\n",
    "\n",
    "print(type(x))\n",
    "print(type(y))\n",
    "print(type(z))"
   ]
  },
  {
   "cell_type": "markdown",
   "id": "ce1c2c33-3804-4317-bd08-020df1a71f4d",
   "metadata": {},
   "source": [
    "Type Conversion\n",
    "\n",
    "You can convert from one type to another with the int(), float(), and complex() methods:"
   ]
  },
  {
   "cell_type": "code",
   "execution_count": 173,
   "id": "678f4d42-ad8e-4506-861f-1b806b2a3ce0",
   "metadata": {},
   "outputs": [
    {
     "name": "stdout",
     "output_type": "stream",
     "text": [
      "1.0\n",
      "(1+0j)\n",
      "2\n",
      "<class 'float'>\n",
      "<class 'complex'>\n",
      "<class 'int'>\n"
     ]
    }
   ],
   "source": [
    "# Convert from one type to another:\n",
    "\n",
    "x = 1\n",
    "y = 2.8\n",
    "z = 1j\n",
    "\n",
    "#convert from int ti float:\n",
    "a = float(x)\n",
    "\n",
    "#conert from int to complex:\n",
    "b = complex(x)\n",
    "\n",
    "#convert from float to int:\n",
    "c = int(y)\n",
    "\n",
    "print(a)\n",
    "print(b)\n",
    "print(c)\n",
    "\n",
    "print(type(a))\n",
    "print(type(b))\n",
    "print(type(c))"
   ]
  },
  {
   "cell_type": "markdown",
   "id": "344b5c62-e9f9-464d-a710-f59ec1250f27",
   "metadata": {},
   "source": [
    "Random Number\n",
    "\n",
    "Python does not have a random() function to make a random number, but Python has a built-in module called random that can be used to make random numbers:"
   ]
  },
  {
   "cell_type": "code",
   "execution_count": 177,
   "id": "c0b963d8-d01b-4a09-a20d-79bf8e6250cc",
   "metadata": {},
   "outputs": [
    {
     "name": "stdout",
     "output_type": "stream",
     "text": [
      "6\n"
     ]
    }
   ],
   "source": [
    "import random\n",
    "\n",
    "print(random.randrange(1, 10))"
   ]
  },
  {
   "cell_type": "markdown",
   "id": "afe29e5f-b5c1-46db-ad68-4a51152921db",
   "metadata": {},
   "source": [
    "CASTING:\n",
    "\n",
    "There may be times when you want to specify a type on to a variable. This can be done with casting. Python is an object-orientated language, and as such it uses classes to define data types, including its primitive types.\n",
    "\n",
    "Casting in python is therefore done using constructor functions:\n",
    "\n",
    "int() - constructs an integer number from an integer literal, a float literal (by removing all decimals), or a string literal (providing the string represents a whole number)\n",
    "\n",
    "\n",
    "float() - constructs a float number from an integer literal, a float literal or a string literal (providing the string represents a float or an integer)\n",
    "\n",
    "\n",
    "str() - constructs a string from a wide variety of data types, including strings, integer literals and float literals"
   ]
  },
  {
   "cell_type": "code",
   "execution_count": 185,
   "id": "253f727d-bc92-49d9-ac9d-c211553a2519",
   "metadata": {},
   "outputs": [],
   "source": [
    "# Integers:\n",
    "\n",
    "x = int(1)    # x will be 1\n",
    "y = int(2.8)  # y will be 2\n",
    "z = int(\"3\")  # z will be 3"
   ]
  },
  {
   "cell_type": "code",
   "execution_count": 187,
   "id": "1eb6961c-d1b8-43a0-962c-deea2b54060a",
   "metadata": {},
   "outputs": [],
   "source": [
    "# Floats:\n",
    "x = float(1)     # x will be 1.0\n",
    "y = float(2.8)   # y will be 2.8\n",
    "z = float(\"3\")   # z will be 3.0 \n",
    "w = float(\"4.2\") # w will be 4.2"
   ]
  },
  {
   "cell_type": "code",
   "execution_count": 189,
   "id": "408d4027-d843-42de-a63b-1a225308e201",
   "metadata": {},
   "outputs": [],
   "source": [
    "#Strings:\n",
    "\n",
    "x = str(\"s1\") # x will be \"s1\"\n",
    "y = str(2)    # y will be '2'\n",
    "z = str(3.0)  # z will be '3.0'"
   ]
  },
  {
   "cell_type": "markdown",
   "id": "5a2a17ba-6faf-4e63-b2a3-e815930bbe63",
   "metadata": {},
   "source": [
    "STRINGS:\n",
    "\n",
    "Strings in python are surrounded by either single quotation marks, or double quotation marks.\n",
    "\n",
    "'hello' is the same as \"hello\"."
   ]
  },
  {
   "cell_type": "code",
   "execution_count": 193,
   "id": "2b2d831a-0d9e-4b5c-8802-d09a521ea518",
   "metadata": {},
   "outputs": [
    {
     "name": "stdout",
     "output_type": "stream",
     "text": [
      "hello\n",
      "hello\n"
     ]
    }
   ],
   "source": [
    "print(\"hello\")\n",
    "print('hello')"
   ]
  },
  {
   "cell_type": "markdown",
   "id": "8e95cd93-148b-47af-93e7-b4b8ef35390c",
   "metadata": {},
   "source": [
    "Quotes Inside Quotes. You can use quotes inside a string, as long as they don't match the quotes surrounding the string:"
   ]
  },
  {
   "cell_type": "code",
   "execution_count": 196,
   "id": "efd7a452-3935-4471-8efb-f8b18db24c5b",
   "metadata": {},
   "outputs": [
    {
     "name": "stdout",
     "output_type": "stream",
     "text": [
      "It's alright\n",
      "He is called 'Johny'\n",
      "He is called \"Johny\"\n"
     ]
    }
   ],
   "source": [
    "print(\"It's alright\")\n",
    "print(\"He is called 'Johny'\")\n",
    "print('He is called \"Johny\"')"
   ]
  },
  {
   "cell_type": "markdown",
   "id": "f22ec423-2157-40d4-9af1-e68eb0397927",
   "metadata": {},
   "source": [
    "Assigning String to a var."
   ]
  },
  {
   "cell_type": "code",
   "execution_count": 201,
   "id": "26510470-24b0-408b-bf7f-80656f0383ea",
   "metadata": {},
   "outputs": [
    {
     "name": "stdout",
     "output_type": "stream",
     "text": [
      "Hi\n"
     ]
    }
   ],
   "source": [
    "a = \"Hi\"\n",
    "print(a)"
   ]
  },
  {
   "cell_type": "markdown",
   "id": "c619b507-d995-4c83-b2a1-b9903429d892",
   "metadata": {},
   "source": [
    "Multiline strings. You can assign a multiline string to a variable by using three quotes:"
   ]
  },
  {
   "cell_type": "code",
   "execution_count": 204,
   "id": "b2410514-525f-4ad7-ad49-e0d7c277aa2c",
   "metadata": {},
   "outputs": [
    {
     "name": "stdout",
     "output_type": "stream",
     "text": [
      "Qwertyuiop;.,mnbvcdxsdertyuik, \n",
      "esdrtgyhjkl;e[cwpdkjiemkdkcfjevoflcdv\n",
      "erfcguerjifolpervkrjeivrfpvlrkej0\n"
     ]
    }
   ],
   "source": [
    "a = \"\"\"Qwertyuiop;.,mnbvcdxsdertyuik, \n",
    "esdrtgyhjkl;e[cwpdkjiemkdkcfjevoflcdv\n",
    "erfcguerjifolpervkrjeivrfpvlrkej0\"\"\"\n",
    "print(a)"
   ]
  },
  {
   "cell_type": "markdown",
   "id": "8e900967-45bc-4ee3-97e0-4823b1860b56",
   "metadata": {},
   "source": [
    "or three single quotes:\n"
   ]
  },
  {
   "cell_type": "code",
   "execution_count": 207,
   "id": "88a919dc-9d67-4df9-8a53-1d41d4b16246",
   "metadata": {},
   "outputs": [
    {
     "name": "stdout",
     "output_type": "stream",
     "text": [
      "Qwertyuiop;.,mnbvcdxsdertyuik, \n",
      "esdrtgyhjkl;e[cwpdkjiemkdkcfjevoflcdv\n",
      "erfcguerjifolpervkrjeivrfpvlrkej0\n"
     ]
    }
   ],
   "source": [
    "a = '''Qwertyuiop;.,mnbvcdxsdertyuik, \n",
    "esdrtgyhjkl;e[cwpdkjiemkdkcfjevoflcdv\n",
    "erfcguerjifolpervkrjeivrfpvlrkej0'''\n",
    "print(a)"
   ]
  },
  {
   "cell_type": "markdown",
   "id": "d6c95a22-4416-45a1-b409-a65511836740",
   "metadata": {},
   "source": [
    "Strings are Arrays\n"
   ]
  },
  {
   "cell_type": "code",
   "execution_count": 213,
   "id": "0c99eb70-2bc1-48c3-87b4-d56484d5ddff",
   "metadata": {},
   "outputs": [
    {
     "name": "stdout",
     "output_type": "stream",
     "text": [
      "h\n"
     ]
    }
   ],
   "source": [
    "# Get the character at position 1 (remember that the first character has the position 0):\n",
    "\n",
    "a = \"Chanel or Gucci?\"\n",
    "print(a[1])"
   ]
  },
  {
   "cell_type": "markdown",
   "id": "91440d53-63fa-46b2-84b4-576f7ffd6b56",
   "metadata": {},
   "source": [
    "Looping through a String"
   ]
  },
  {
   "cell_type": "code",
   "execution_count": 216,
   "id": "5e5e901c-54ec-44bb-ab23-651012369c74",
   "metadata": {},
   "outputs": [
    {
     "name": "stdout",
     "output_type": "stream",
     "text": [
      "b\n",
      "a\n",
      "n\n",
      "a\n",
      "n\n",
      "a\n"
     ]
    }
   ],
   "source": [
    "for x in \"banana\":\n",
    "    print(x)"
   ]
  },
  {
   "cell_type": "markdown",
   "id": "f5410570-89af-4869-b113-de04193c6170",
   "metadata": {},
   "source": [
    "String Length"
   ]
  },
  {
   "cell_type": "code",
   "execution_count": 221,
   "id": "4ceca30b-0dda-46cf-a14a-e5b54ce135d7",
   "metadata": {},
   "outputs": [
    {
     "name": "stdout",
     "output_type": "stream",
     "text": [
      "6\n"
     ]
    }
   ],
   "source": [
    "# use the function 'len()' to know the lenght of var.\n",
    "\n",
    "a = \"Qwerty\"\n",
    "print(len(a))"
   ]
  },
  {
   "cell_type": "markdown",
   "id": "7b25bdc0-78a6-456d-b18a-478543307b8a",
   "metadata": {},
   "source": [
    "Check String. To check if a certain phrase or character is present in a string, we can use the keyword in."
   ]
  },
  {
   "cell_type": "code",
   "execution_count": 224,
   "id": "7a746389-4341-468f-bb91-92bf632368fd",
   "metadata": {},
   "outputs": [
    {
     "name": "stdout",
     "output_type": "stream",
     "text": [
      "True\n"
     ]
    }
   ],
   "source": [
    "txt = \"The best things in life are free!\"\n",
    "print(\"free\" in txt)"
   ]
  },
  {
   "cell_type": "code",
   "execution_count": 226,
   "id": "7614e92e-07d7-4c0b-81ac-16a66b5fa7c5",
   "metadata": {},
   "outputs": [
    {
     "name": "stdout",
     "output_type": "stream",
     "text": [
      "Yes, 'free' is present.\n"
     ]
    }
   ],
   "source": [
    "txt = \"The best things in life are free!\"\n",
    "if \"free\" in txt:\n",
    "  print(\"Yes, 'free' is present.\")"
   ]
  },
  {
   "cell_type": "markdown",
   "id": "ff0f0848-ef52-4b24-b27a-9eef7a365711",
   "metadata": {},
   "source": [
    "Check if Not"
   ]
  },
  {
   "cell_type": "code",
   "execution_count": 229,
   "id": "f00c2d74-caa8-423b-a04e-12987c47349e",
   "metadata": {},
   "outputs": [
    {
     "name": "stdout",
     "output_type": "stream",
     "text": [
      "True\n"
     ]
    }
   ],
   "source": [
    "txt = \"The best things in life are free!\"\n",
    "print(\"expensive\" not in txt)"
   ]
  },
  {
   "cell_type": "code",
   "execution_count": 231,
   "id": "7ca569d3-f99c-478e-be38-1ccee54e75cc",
   "metadata": {},
   "outputs": [
    {
     "name": "stdout",
     "output_type": "stream",
     "text": [
      "No, 'expensive' is NOT present.\n"
     ]
    }
   ],
   "source": [
    "txt = \"The best things in life are free!\"\n",
    "if \"expensive\" not in txt:\n",
    "  print(\"No, 'expensive' is NOT present.\")"
   ]
  },
  {
   "cell_type": "markdown",
   "id": "46b0d8df-4753-433e-8024-0dca0fd9873f",
   "metadata": {},
   "source": [
    "Slicing Strings. You can return a range of characters by using the slice syntax.\n",
    "\n",
    "list[ _ : _ : _ :]\n",
    "\n",
    "I call its parametrs: SSS(Start Stop Step)"
   ]
  },
  {
   "cell_type": "code",
   "execution_count": 235,
   "id": "a2bcdfaa-64ac-42bb-b0df-053616abda1d",
   "metadata": {},
   "outputs": [
    {
     "name": "stdout",
     "output_type": "stream",
     "text": [
      "llo\n"
     ]
    }
   ],
   "source": [
    "# to get the ch-s from position 2 to 5(not included):\n",
    "b = \"Hello World\"\n",
    "print(b[2:5])"
   ]
  },
  {
   "cell_type": "code",
   "execution_count": 237,
   "id": "57ef4d33-9e5a-4722-996a-e2a7e388b1c4",
   "metadata": {},
   "outputs": [
    {
     "name": "stdout",
     "output_type": "stream",
     "text": [
      "Qwert\n"
     ]
    }
   ],
   "source": [
    "# to get the ch-s from the start to position 5(not included):\n",
    "\n",
    "a = \"Qwerty Ytrewq\"\n",
    "print(a[:5])"
   ]
  },
  {
   "cell_type": "code",
   "execution_count": 241,
   "id": "2bbb5046-a4d9-48c7-a86d-3b4a42a1dfff",
   "metadata": {},
   "outputs": [
    {
     "name": "stdout",
     "output_type": "stream",
     "text": [
      "erty Ytrewq\n"
     ]
    }
   ],
   "source": [
    "# to get the characters from position 2, and all the way to the end:\n",
    "\n",
    "a = \"Qwerty Ytrewq\"\n",
    "print(a[2:])"
   ]
  },
  {
   "cell_type": "markdown",
   "id": "afba8d61-98ae-4ac3-8180-436ee6bdda37",
   "metadata": {},
   "source": [
    "Negative Indexing. Use negative indexes to start the slice from the end of the string:"
   ]
  },
  {
   "cell_type": "code",
   "execution_count": 244,
   "id": "a84b8d78-49b1-407f-8aea-7168b2961d7b",
   "metadata": {},
   "outputs": [
    {
     "name": "stdout",
     "output_type": "stream",
     "text": [
      "orl\n"
     ]
    }
   ],
   "source": [
    "'''\n",
    "Get the characters:\n",
    "\n",
    "From: \"o\" in \"World!\" (position -5)\n",
    "\n",
    "To, but not included: \"d\" in \"World!\" (position -2):\n",
    "'''\n",
    "\n",
    "b = \"Hello, World!\"\n",
    "print(b[-5:-2])"
   ]
  },
  {
   "cell_type": "markdown",
   "id": "7fe97cea-2707-4b8a-8d66-befac4e45519",
   "metadata": {},
   "source": [
    "MODIFY STRINGS:"
   ]
  },
  {
   "cell_type": "code",
   "execution_count": 249,
   "id": "bbda101f-2b6e-4b44-85fa-ea40797829e0",
   "metadata": {},
   "outputs": [
    {
     "name": "stdout",
     "output_type": "stream",
     "text": [
      "HELLO WORLD\n"
     ]
    }
   ],
   "source": [
    "# the upper() method returns the string in upper case:\n",
    "a = \"Hello World\"\n",
    "print(a.upper())"
   ]
  },
  {
   "cell_type": "code",
   "execution_count": 253,
   "id": "0432fb96-9a7e-4b21-9954-ea0694bda3ee",
   "metadata": {},
   "outputs": [
    {
     "name": "stdout",
     "output_type": "stream",
     "text": [
      "hello world\n"
     ]
    }
   ],
   "source": [
    "# the lower() method returns the string in lower case:\n",
    "\n",
    "a = \"Hello World\"\n",
    "print(a.lower())"
   ]
  },
  {
   "cell_type": "markdown",
   "id": "7b7fcbba-737c-454b-8b2e-633ad87369a6",
   "metadata": {},
   "source": [
    "Remove whitesapce"
   ]
  },
  {
   "cell_type": "code",
   "execution_count": 258,
   "id": "a9373a7a-3426-4453-9bd0-f7eacebec48c",
   "metadata": {},
   "outputs": [
    {
     "name": "stdout",
     "output_type": "stream",
     "text": [
      "Anel Kulmuratova\n"
     ]
    }
   ],
   "source": [
    "# using 'strip()' method you can remove the whitespaces before and after the text(if they're)\n",
    "\n",
    "a = \"      Anel Kulmuratova    \"\n",
    "print(a.strip())"
   ]
  },
  {
   "cell_type": "markdown",
   "id": "a5082c94-b4d3-4b1b-bb53-07cc00d9449b",
   "metadata": {},
   "source": [
    "Replace str"
   ]
  },
  {
   "cell_type": "code",
   "execution_count": 265,
   "id": "f6a0aab4-1d9f-4a23-9487-779bbbf15329",
   "metadata": {},
   "outputs": [
    {
     "name": "stdout",
     "output_type": "stream",
     "text": [
      "Zello KBTU\n"
     ]
    }
   ],
   "source": [
    "a = \"Hello KBTU\"\n",
    "print(a.replace(\"H\", \"Z\"))"
   ]
  },
  {
   "cell_type": "markdown",
   "id": "a6f35fa7-bf20-40dc-85b8-399f2782d00e",
   "metadata": {},
   "source": [
    "Split str. The split() method returns a list where the text between the specified separator becomes the list items."
   ]
  },
  {
   "cell_type": "code",
   "execution_count": 269,
   "id": "df82b7dd-eb7f-452c-acf5-9e37ea949fe5",
   "metadata": {},
   "outputs": [
    {
     "name": "stdout",
     "output_type": "stream",
     "text": [
      "['Hello', ' World!']\n"
     ]
    }
   ],
   "source": [
    "a = \"Hello, World!\"\n",
    "print(a.split(\",\")) # returns ['Hello', ' World!']"
   ]
  },
  {
   "cell_type": "markdown",
   "id": "e7081f62-e175-409d-8880-043d169a41d7",
   "metadata": {},
   "source": [
    "String Concatenation"
   ]
  },
  {
   "cell_type": "code",
   "execution_count": 272,
   "id": "28704107-9efc-4b01-8e3a-417f3c388497",
   "metadata": {},
   "outputs": [
    {
     "name": "stdout",
     "output_type": "stream",
     "text": [
      "HelloWorld\n"
     ]
    }
   ],
   "source": [
    "a = \"Hello\"\n",
    "b = \"World\"\n",
    "c = a + b\n",
    "print(c)\n"
   ]
  },
  {
   "cell_type": "code",
   "execution_count": 274,
   "id": "49640fe5-224d-4570-a972-a89bf30b0b6e",
   "metadata": {},
   "outputs": [
    {
     "name": "stdout",
     "output_type": "stream",
     "text": [
      "Hello World\n"
     ]
    }
   ],
   "source": [
    "a = \"Hello\"\n",
    "b = \"World\"\n",
    "c = a + \" \" + b\n",
    "print(c)"
   ]
  },
  {
   "cell_type": "markdown",
   "id": "5f3a9f99-d479-4d28-ad37-e26f1083fc21",
   "metadata": {},
   "source": [
    "Format - Strings. F-Strings"
   ]
  },
  {
   "cell_type": "code",
   "execution_count": 280,
   "id": "beaa1e9e-3ffb-4d45-9896-548a05ae6fe2",
   "metadata": {},
   "outputs": [
    {
     "name": "stdout",
     "output_type": "stream",
     "text": [
      "My name is Mansur, I am 20\n"
     ]
    }
   ],
   "source": [
    "age = 20\n",
    "txt = f\"My name is Mansur, I am {age}\"\n",
    "print(txt)"
   ]
  },
  {
   "cell_type": "code",
   "execution_count": 286,
   "id": "84fb1bb0-9833-49c9-8b39-c3e45cfa28fc",
   "metadata": {},
   "outputs": [
    {
     "name": "stdout",
     "output_type": "stream",
     "text": [
      "The price is 59.00 dollars\n"
     ]
    }
   ],
   "source": [
    "# A modifier is included by adding a colon : followed by a legal formatting type, like .2f which means fixed point number with 2 decimals:\n",
    "\n",
    "price = 59\n",
    "txt = f\"The price is {price:.2f} dollars\"\n",
    "print(txt)"
   ]
  },
  {
   "cell_type": "markdown",
   "id": "e3b2b15c-e1c9-4823-9fee-071a84df7d7d",
   "metadata": {},
   "source": [
    "Escape Ch-s"
   ]
  },
  {
   "cell_type": "code",
   "execution_count": 291,
   "id": "ab073175-9514-4914-a280-27615ae9e164",
   "metadata": {},
   "outputs": [
    {
     "name": "stdout",
     "output_type": "stream",
     "text": [
      "We are the so-called \"Vikings\" from the north.\n"
     ]
    }
   ],
   "source": [
    "'''The escape character allows you to use double quotes when you normally \n",
    "would not be allowed:'''\n",
    "\n",
    "txt = \"We are the so-called \\\"Vikings\\\" from the north.\"\n",
    "\n",
    "print(txt)"
   ]
  }
 ],
 "metadata": {
  "kernelspec": {
   "display_name": "Python [conda env:base] *",
   "language": "python",
   "name": "conda-base-py"
  },
  "language_info": {
   "codemirror_mode": {
    "name": "ipython",
    "version": 3
   },
   "file_extension": ".py",
   "mimetype": "text/x-python",
   "name": "python",
   "nbconvert_exporter": "python",
   "pygments_lexer": "ipython3",
   "version": "3.12.7"
  }
 },
 "nbformat": 4,
 "nbformat_minor": 5
}
