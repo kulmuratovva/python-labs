{
 "cells": [
  {
   "cell_type": "markdown",
   "id": "63682202-39bc-4009-ac37-ac07a94e1146",
   "metadata": {},
   "source": [
    "BOOLEAN VALUES"
   ]
  },
  {
   "cell_type": "markdown",
   "id": "2740e948-02dc-4048-a0d8-52a46eccfbac",
   "metadata": {},
   "source": [
    "When you compare two values, the expression is evaluated and Python returns the Boolean answer(True/False):"
   ]
  },
  {
   "cell_type": "code",
   "execution_count": 6,
   "id": "464dc292-184d-48da-ae6f-a28a3a21f77b",
   "metadata": {},
   "outputs": [
    {
     "name": "stdout",
     "output_type": "stream",
     "text": [
      "True\n",
      "False\n",
      "False\n"
     ]
    }
   ],
   "source": [
    "print(10 > 9)\n",
    "print(10 == 9)\n",
    "print(10 < 9)"
   ]
  },
  {
   "cell_type": "markdown",
   "id": "18e5aaff-a2e0-4390-b913-396587d2b257",
   "metadata": {},
   "source": [
    "Print a message based on whether the condition is True or False:"
   ]
  },
  {
   "cell_type": "code",
   "execution_count": 9,
   "id": "175be3ef-c438-42f4-b41a-22e3fb2126b5",
   "metadata": {},
   "outputs": [
    {
     "name": "stdout",
     "output_type": "stream",
     "text": [
      "a is greater than b\n"
     ]
    }
   ],
   "source": [
    "a = 200\n",
    "b = 33\n",
    "\n",
    "if b > a:\n",
    "    print(\"b is greater than a\")\n",
    "else:\n",
    "    print(\"a is greater than b\")"
   ]
  },
  {
   "cell_type": "markdown",
   "id": "3e5e3f10-4d01-44ce-978f-ba59ea85d97d",
   "metadata": {},
   "source": [
    "Evaluate the Value"
   ]
  },
  {
   "cell_type": "code",
   "execution_count": 11,
   "id": "066390da-70a6-4b15-8386-20194588a223",
   "metadata": {},
   "outputs": [
    {
     "name": "stdout",
     "output_type": "stream",
     "text": [
      "True\n",
      "True\n"
     ]
    }
   ],
   "source": [
    "print(bool(\"Hello\"))\n",
    "print(bool(15))"
   ]
  },
  {
   "cell_type": "markdown",
   "id": "9ca51ee1-51e1-42b5-9976-31dcc7c67058",
   "metadata": {},
   "source": [
    "Most Valued are True\n",
    "\n",
    "Almost any value is evaluated to True if it has some sort of content.\n",
    "\n",
    "Any string is True, except empty(\"\"/'') strings.\n",
    "Any number is True, except 0.\n",
    "Any list, tuple, set, and dictionary are True, except empty ones."
   ]
  },
  {
   "cell_type": "code",
   "execution_count": 16,
   "id": "5d52cc00-525a-4541-bee9-7ac8ff89cd88",
   "metadata": {},
   "outputs": [
    {
     "data": {
      "text/plain": [
       "False"
      ]
     },
     "execution_count": 16,
     "metadata": {},
     "output_type": "execute_result"
    }
   ],
   "source": [
    "\n",
    "# The following will return True:\n",
    "bool(\"abc\")\n",
    "bool(123)\n",
    "bool([\"apple\", \"cherry\", \"banana\"])\n",
    "\n",
    "# The Values that return False:\n",
    "bool(False)\n",
    "bool(None)\n",
    "bool(0)\n",
    "bool(\"\")\n",
    "bool(())\n",
    "bool([])\n",
    "bool({})"
   ]
  },
  {
   "cell_type": "markdown",
   "id": "62b4a539-af01-498e-bec4-ed9b4fcbd43a",
   "metadata": {},
   "source": [
    "Functions can Return a Boolean"
   ]
  },
  {
   "cell_type": "code",
   "execution_count": 19,
   "id": "fa1c0378-9b9f-4480-9b9f-24491539562a",
   "metadata": {},
   "outputs": [
    {
     "name": "stdout",
     "output_type": "stream",
     "text": [
      "True\n"
     ]
    }
   ],
   "source": [
    "def myFunction():\n",
    "    return True\n",
    "\n",
    "print(myFunction())"
   ]
  },
  {
   "cell_type": "code",
   "execution_count": 23,
   "id": "63d2a416-a9fb-4173-a0d8-47ad0ecef931",
   "metadata": {},
   "outputs": [
    {
     "name": "stdout",
     "output_type": "stream",
     "text": [
      "YES\n"
     ]
    }
   ],
   "source": [
    "# You can execute code based on ther Boolean answer of a function\n",
    "\n",
    "def myFunction():\n",
    "    return True\n",
    "\n",
    "if myFunction():\n",
    "    print(\"YES\")\n",
    "else:\n",
    "    print(\"NO\")"
   ]
  },
  {
   "cell_type": "code",
   "execution_count": 25,
   "id": "83d6542e-f720-44bc-88ae-cf528aee08b2",
   "metadata": {},
   "outputs": [
    {
     "name": "stdout",
     "output_type": "stream",
     "text": [
      "True\n"
     ]
    }
   ],
   "source": [
    "# isinstance() - with the function we can determine if an object is of certain data type:\n",
    "\n",
    "x = 200\n",
    "print(isinstance(x, int))"
   ]
  },
  {
   "cell_type": "markdown",
   "id": "ea9709c7-cb11-4dba-adf8-252718198c19",
   "metadata": {},
   "source": [
    "OPERATORS"
   ]
  },
  {
   "cell_type": "markdown",
   "id": "dd164eb2-c2e2-4700-9165-07863e47efa6",
   "metadata": {},
   "source": [
    "Python Arithmetic Operators:"
   ]
  },
  {
   "cell_type": "code",
   "execution_count": 35,
   "id": "9e4520da-8769-4d76-8c2e-b0cb4950d6ef",
   "metadata": {},
   "outputs": [
    {
     "name": "stdout",
     "output_type": "stream",
     "text": [
      "Addition : 8\n",
      "Subtraction : 2\n",
      "Multiplication : 15\n",
      "Division : 5.0\n",
      "Modulus of 8 % 3 : 2\n",
      "Exponentiation of 10^2 is 100\n",
      "7\n"
     ]
    }
   ],
   "source": [
    "# Addition +\n",
    "x = 5\n",
    "y = 3\n",
    "\n",
    "print(f\"Addition : {x + y}\")\n",
    "\n",
    "# Subtraction - \n",
    "x = 5\n",
    "y = 3\n",
    "\n",
    "print(f\"Subtraction : {x - y}\")\n",
    "\n",
    "# Multiplication *\n",
    "x = 5\n",
    "y = 3\n",
    "\n",
    "print(f\"Multiplication : {x * y}\")\n",
    "\n",
    "# Division / \n",
    "x = 10\n",
    "y = 2\n",
    "\n",
    "print(f\"Division : {x / y}\")\n",
    "\n",
    "# Modulus % \n",
    "x = 8\n",
    "y = 3\n",
    "\n",
    "print(f\"Modulus of {x} % {y} : {x % y}\")\n",
    "\n",
    "# Exponentiation **\n",
    "x = 10\n",
    "y = 2\n",
    "\n",
    "print(f\"Exponentiation of {x}^{y} is {x**y}\")\n",
    "\n",
    "# Floor division //\n",
    "x = 15\n",
    "y = 2\n",
    "\n",
    "print(x // y)\n",
    "\n",
    "#the floor division // rounds the result down to the nearest whole number"
   ]
  },
  {
   "cell_type": "markdown",
   "id": "67a9f235-3d82-421e-a91a-9c083f9cf609",
   "metadata": {},
   "source": [
    "Python Assignment Operators"
   ]
  },
  {
   "cell_type": "markdown",
   "id": "be85a693-1a23-4c93-a15f-df16778f0f9e",
   "metadata": {},
   "source": [
    "Python Comparison Operators"
   ]
  },
  {
   "cell_type": "code",
   "execution_count": null,
   "id": "81b55e98-2f27-41cb-9e80-74ad0ada7cb6",
   "metadata": {},
   "outputs": [],
   "source": [
    "x = 5\n",
    "y = 3\n",
    "print(x == y)\n",
    "# returns False because 5 is not equal to 3\n",
    "\n",
    "\n",
    "x = 5\n",
    "y = 3\n",
    "print(x != y)\n",
    "# returns True because 5 is not equal to 3\n",
    "\n",
    "\n",
    "x = 5\n",
    "y = 3\n",
    "print(x > y)\n",
    "# returns True because 5 is greater than 3\n",
    "\n",
    "x = 5\n",
    "y = 3\n",
    "print(x < y)\n",
    "# returns False because 5 is not less than 3\n",
    "\n",
    "\n",
    "x = 5\n",
    "y = 3\n",
    "print(x >= y)\n",
    "# returns True because five is greater, or equal, to 3\n",
    "\n",
    "\n",
    "x = 5\n",
    "y = 3\n",
    "print(x <= y)\n",
    "# returns False because 5 is neither less than or equal to 3\n"
   ]
  },
  {
   "cell_type": "code",
   "execution_count": null,
   "id": "cdceb395-3282-4894-8a64-8a4e249e0b75",
   "metadata": {},
   "outputs": [],
   "source": []
  }
 ],
 "metadata": {
  "kernelspec": {
   "display_name": "Python [conda env:base] *",
   "language": "python",
   "name": "conda-base-py"
  },
  "language_info": {
   "codemirror_mode": {
    "name": "ipython",
    "version": 3
   },
   "file_extension": ".py",
   "mimetype": "text/x-python",
   "name": "python",
   "nbconvert_exporter": "python",
   "pygments_lexer": "ipython3",
   "version": "3.12.7"
  }
 },
 "nbformat": 4,
 "nbformat_minor": 5
}
